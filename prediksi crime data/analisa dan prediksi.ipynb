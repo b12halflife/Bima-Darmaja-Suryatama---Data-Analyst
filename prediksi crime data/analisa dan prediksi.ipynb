{
 "cells": [
  {
   "cell_type": "markdown",
   "metadata": {},
   "source": [
    "<h1>Analisis harga rumah di rumahcom tangsel city</H1>\n",
    "<h4>Data Dan sumber</h4>\n",
    "<hr></hr>\n",
    "<br>\n",
    "sumber data : https://www.kaggle.com/datasets/gerryzani/housing-price-in-south-tangerang-city-indonesia\n",
    "Dataset Informasi:\n",
    "\n",
    "* nav-link href: links dari advertisement\n",
    "* listing-location: alamat dari temapt yang di jual\n",
    "* price: harga property\n",
    "* bed: jumlah kamar tidur di property\n",
    "* bath: jumlah kamar tidur di the property\n",
    "* listing-floorarea: ukuran tanah di meter persegi\n",
    "* listing-floorarea 2: harga permeter persegi"
   ]
  },
  {
   "cell_type": "markdown",
   "metadata": {},
   "source": [
    "<h2>Importing</h2>"
   ]
  },
  {
   "cell_type": "code",
   "execution_count": 2,
   "metadata": {},
   "outputs": [],
   "source": [
    "import pandas as pd\n",
    "import re\n",
    "import numpy as np\n",
    "import locale\n",
    "\n",
    "import matplotlib.pyplot as plt\n",
    "import seaborn as sns"
   ]
  },
  {
   "cell_type": "markdown",
   "metadata": {},
   "source": [
    "<h2>Explorasi data</h2>\n",
    "<hr>"
   ]
  },
  {
   "cell_type": "code",
   "execution_count": 3,
   "metadata": {},
   "outputs": [
    {
     "data": {
      "application/vnd.microsoft.datawrangler.viewer.v0+json": {
       "columns": [
        {
         "name": "index",
         "rawType": "int64",
         "type": "integer"
        },
        {
         "name": "nav-link href",
         "rawType": "object",
         "type": "string"
        },
        {
         "name": "listing-location",
         "rawType": "object",
         "type": "string"
        },
        {
         "name": "price",
         "rawType": "object",
         "type": "string"
        },
        {
         "name": "bed",
         "rawType": "float64",
         "type": "float"
        },
        {
         "name": "bath",
         "rawType": "float64",
         "type": "float"
        },
        {
         "name": "listing-floorarea",
         "rawType": "object",
         "type": "string"
        },
        {
         "name": "listing-floorarea 2",
         "rawType": "object",
         "type": "string"
        }
       ],
       "conversionMethod": "pd.DataFrame",
       "ref": "d5a87508-4bab-4618-8409-b9cd2f371b47",
       "rows": [
        [
         "0",
         "https://www.rumah.com/listing-properti/dijual-jual-cepat-cluster-aquamarine-oleh-vonni-21410668",
         "Gading Serpong, Tangerang Selatan, Banten",
         "6,9 M",
         "5.0",
         "5.0",
         "420 m²",
         "Rp 20.720.721 per m²"
        ],
        [
         "1",
         "https://www.rumah.com/listing-properti/dijual-jual-cepat-cluster-alexandrite-oleh-vonni-21427584",
         "Gading Serpong, Tangerang Selatan, Banten",
         "4,5 M",
         "3.0",
         "3.0",
         "190 m²",
         "Rp 12.747.875 per m²"
        ],
        [
         "2",
         "https://www.rumah.com/listing-properti/dijual-jual-cepat-cluster-vivaldi-oleh-vonni-21427802",
         "Gading Serpong, Tangerang Selatan, Banten",
         "3,95 M",
         "3.0",
         "3.0",
         "132 m²",
         "Rp 30.859.375 per m²"
        ],
        [
         "3",
         "https://www.rumah.com/listing-properti/dijual-jual-cepat-cluster-starling-oleh-vonni-21428329",
         "Gading Serpong, Tangerang Selatan, Banten",
         "3,3 M",
         "4.0",
         "3.0",
         "220 m²",
         "Rp 18.333.333 per m²"
        ],
        [
         "4",
         "https://www.rumah.com/listing-properti/dijual-jual-cepat-cluster-newton-oleh-vonni-21428706",
         "Gading Serpong, Tangerang Selatan, Banten",
         "3,5 M",
         "3.0",
         "2.0",
         "180 m²",
         "Rp 27.777.778 per m²"
        ]
       ],
       "shape": {
        "columns": 7,
        "rows": 5
       }
      },
      "text/html": [
       "<div>\n",
       "<style scoped>\n",
       "    .dataframe tbody tr th:only-of-type {\n",
       "        vertical-align: middle;\n",
       "    }\n",
       "\n",
       "    .dataframe tbody tr th {\n",
       "        vertical-align: top;\n",
       "    }\n",
       "\n",
       "    .dataframe thead th {\n",
       "        text-align: right;\n",
       "    }\n",
       "</style>\n",
       "<table border=\"1\" class=\"dataframe\">\n",
       "  <thead>\n",
       "    <tr style=\"text-align: right;\">\n",
       "      <th></th>\n",
       "      <th>nav-link href</th>\n",
       "      <th>listing-location</th>\n",
       "      <th>price</th>\n",
       "      <th>bed</th>\n",
       "      <th>bath</th>\n",
       "      <th>listing-floorarea</th>\n",
       "      <th>listing-floorarea 2</th>\n",
       "    </tr>\n",
       "  </thead>\n",
       "  <tbody>\n",
       "    <tr>\n",
       "      <th>0</th>\n",
       "      <td>https://www.rumah.com/listing-properti/dijual-...</td>\n",
       "      <td>Gading Serpong, Tangerang Selatan, Banten</td>\n",
       "      <td>6,9 M</td>\n",
       "      <td>5.0</td>\n",
       "      <td>5.0</td>\n",
       "      <td>420 m²</td>\n",
       "      <td>Rp 20.720.721 per m²</td>\n",
       "    </tr>\n",
       "    <tr>\n",
       "      <th>1</th>\n",
       "      <td>https://www.rumah.com/listing-properti/dijual-...</td>\n",
       "      <td>Gading Serpong, Tangerang Selatan, Banten</td>\n",
       "      <td>4,5 M</td>\n",
       "      <td>3.0</td>\n",
       "      <td>3.0</td>\n",
       "      <td>190 m²</td>\n",
       "      <td>Rp 12.747.875 per m²</td>\n",
       "    </tr>\n",
       "    <tr>\n",
       "      <th>2</th>\n",
       "      <td>https://www.rumah.com/listing-properti/dijual-...</td>\n",
       "      <td>Gading Serpong, Tangerang Selatan, Banten</td>\n",
       "      <td>3,95 M</td>\n",
       "      <td>3.0</td>\n",
       "      <td>3.0</td>\n",
       "      <td>132 m²</td>\n",
       "      <td>Rp 30.859.375 per m²</td>\n",
       "    </tr>\n",
       "    <tr>\n",
       "      <th>3</th>\n",
       "      <td>https://www.rumah.com/listing-properti/dijual-...</td>\n",
       "      <td>Gading Serpong, Tangerang Selatan, Banten</td>\n",
       "      <td>3,3 M</td>\n",
       "      <td>4.0</td>\n",
       "      <td>3.0</td>\n",
       "      <td>220 m²</td>\n",
       "      <td>Rp 18.333.333 per m²</td>\n",
       "    </tr>\n",
       "    <tr>\n",
       "      <th>4</th>\n",
       "      <td>https://www.rumah.com/listing-properti/dijual-...</td>\n",
       "      <td>Gading Serpong, Tangerang Selatan, Banten</td>\n",
       "      <td>3,5 M</td>\n",
       "      <td>3.0</td>\n",
       "      <td>2.0</td>\n",
       "      <td>180 m²</td>\n",
       "      <td>Rp 27.777.778 per m²</td>\n",
       "    </tr>\n",
       "  </tbody>\n",
       "</table>\n",
       "</div>"
      ],
      "text/plain": [
       "                                       nav-link href  \\\n",
       "0  https://www.rumah.com/listing-properti/dijual-...   \n",
       "1  https://www.rumah.com/listing-properti/dijual-...   \n",
       "2  https://www.rumah.com/listing-properti/dijual-...   \n",
       "3  https://www.rumah.com/listing-properti/dijual-...   \n",
       "4  https://www.rumah.com/listing-properti/dijual-...   \n",
       "\n",
       "                            listing-location   price  bed  bath  \\\n",
       "0  Gading Serpong, Tangerang Selatan, Banten   6,9 M  5.0   5.0   \n",
       "1  Gading Serpong, Tangerang Selatan, Banten   4,5 M  3.0   3.0   \n",
       "2  Gading Serpong, Tangerang Selatan, Banten  3,95 M  3.0   3.0   \n",
       "3  Gading Serpong, Tangerang Selatan, Banten   3,3 M  4.0   3.0   \n",
       "4  Gading Serpong, Tangerang Selatan, Banten   3,5 M  3.0   2.0   \n",
       "\n",
       "  listing-floorarea   listing-floorarea 2  \n",
       "0            420 m²  Rp 20.720.721 per m²  \n",
       "1            190 m²  Rp 12.747.875 per m²  \n",
       "2            132 m²  Rp 30.859.375 per m²  \n",
       "3            220 m²  Rp 18.333.333 per m²  \n",
       "4            180 m²  Rp 27.777.778 per m²  "
      ]
     },
     "execution_count": 3,
     "metadata": {},
     "output_type": "execute_result"
    }
   ],
   "source": [
    "data = pd.read_csv(r'190623_rumahcom_tangsel_city_unfiltered.csv', encoding='latin-1')\n",
    "df = pd.DataFrame(data)\n",
    "df.head()"
   ]
  },
  {
   "cell_type": "code",
   "execution_count": 4,
   "metadata": {},
   "outputs": [
    {
     "name": "stdout",
     "output_type": "stream",
     "text": [
      "<class 'pandas.core.frame.DataFrame'>\n",
      "RangeIndex: 29420 entries, 0 to 29419\n",
      "Data columns (total 7 columns):\n",
      " #   Column               Non-Null Count  Dtype  \n",
      "---  ------               --------------  -----  \n",
      " 0   nav-link href        29420 non-null  object \n",
      " 1   listing-location     29420 non-null  object \n",
      " 2   price                29420 non-null  object \n",
      " 3   bed                  29282 non-null  float64\n",
      " 4   bath                 29215 non-null  float64\n",
      " 5   listing-floorarea    29420 non-null  object \n",
      " 6   listing-floorarea 2  29383 non-null  object \n",
      "dtypes: float64(2), object(5)\n",
      "memory usage: 1.6+ MB\n"
     ]
    }
   ],
   "source": [
    "df.info()"
   ]
  },
  {
   "cell_type": "code",
   "execution_count": 5,
   "metadata": {},
   "outputs": [
    {
     "data": {
      "application/vnd.microsoft.datawrangler.viewer.v0+json": {
       "columns": [
        {
         "name": "index",
         "rawType": "object",
         "type": "string"
        },
        {
         "name": "bed",
         "rawType": "float64",
         "type": "float"
        },
        {
         "name": "bath",
         "rawType": "float64",
         "type": "float"
        }
       ],
       "conversionMethod": "pd.DataFrame",
       "ref": "80588b14-fce3-4def-bc00-0fe1169ac13f",
       "rows": [
        [
         "count",
         "29282.0",
         "29215.0"
        ],
        [
         "mean",
         "3.7544566627962572",
         "2.9861372582577443"
        ],
        [
         "std",
         "1.356761837804469",
         "1.359788199340722"
        ],
        [
         "min",
         "1.0",
         "1.0"
        ],
        [
         "25%",
         "3.0",
         "2.0"
        ],
        [
         "50%",
         "4.0",
         "3.0"
        ],
        [
         "75%",
         "4.0",
         "4.0"
        ],
        [
         "max",
         "10.0",
         "10.0"
        ]
       ],
       "shape": {
        "columns": 2,
        "rows": 8
       }
      },
      "text/html": [
       "<div>\n",
       "<style scoped>\n",
       "    .dataframe tbody tr th:only-of-type {\n",
       "        vertical-align: middle;\n",
       "    }\n",
       "\n",
       "    .dataframe tbody tr th {\n",
       "        vertical-align: top;\n",
       "    }\n",
       "\n",
       "    .dataframe thead th {\n",
       "        text-align: right;\n",
       "    }\n",
       "</style>\n",
       "<table border=\"1\" class=\"dataframe\">\n",
       "  <thead>\n",
       "    <tr style=\"text-align: right;\">\n",
       "      <th></th>\n",
       "      <th>bed</th>\n",
       "      <th>bath</th>\n",
       "    </tr>\n",
       "  </thead>\n",
       "  <tbody>\n",
       "    <tr>\n",
       "      <th>count</th>\n",
       "      <td>29282.000000</td>\n",
       "      <td>29215.000000</td>\n",
       "    </tr>\n",
       "    <tr>\n",
       "      <th>mean</th>\n",
       "      <td>3.754457</td>\n",
       "      <td>2.986137</td>\n",
       "    </tr>\n",
       "    <tr>\n",
       "      <th>std</th>\n",
       "      <td>1.356762</td>\n",
       "      <td>1.359788</td>\n",
       "    </tr>\n",
       "    <tr>\n",
       "      <th>min</th>\n",
       "      <td>1.000000</td>\n",
       "      <td>1.000000</td>\n",
       "    </tr>\n",
       "    <tr>\n",
       "      <th>25%</th>\n",
       "      <td>3.000000</td>\n",
       "      <td>2.000000</td>\n",
       "    </tr>\n",
       "    <tr>\n",
       "      <th>50%</th>\n",
       "      <td>4.000000</td>\n",
       "      <td>3.000000</td>\n",
       "    </tr>\n",
       "    <tr>\n",
       "      <th>75%</th>\n",
       "      <td>4.000000</td>\n",
       "      <td>4.000000</td>\n",
       "    </tr>\n",
       "    <tr>\n",
       "      <th>max</th>\n",
       "      <td>10.000000</td>\n",
       "      <td>10.000000</td>\n",
       "    </tr>\n",
       "  </tbody>\n",
       "</table>\n",
       "</div>"
      ],
      "text/plain": [
       "                bed          bath\n",
       "count  29282.000000  29215.000000\n",
       "mean       3.754457      2.986137\n",
       "std        1.356762      1.359788\n",
       "min        1.000000      1.000000\n",
       "25%        3.000000      2.000000\n",
       "50%        4.000000      3.000000\n",
       "75%        4.000000      4.000000\n",
       "max       10.000000     10.000000"
      ]
     },
     "execution_count": 5,
     "metadata": {},
     "output_type": "execute_result"
    }
   ],
   "source": [
    "df.describe()"
   ]
  },
  {
   "cell_type": "code",
   "execution_count": 6,
   "metadata": {},
   "outputs": [
    {
     "data": {
      "text/plain": [
       "(29420, 7)"
      ]
     },
     "execution_count": 6,
     "metadata": {},
     "output_type": "execute_result"
    }
   ],
   "source": [
    "df.shape"
   ]
  },
  {
   "cell_type": "code",
   "execution_count": 7,
   "metadata": {},
   "outputs": [
    {
     "data": {
      "text/plain": [
       "Index(['nav-link href', 'listing-location', 'price', 'bed', 'bath',\n",
       "       'listing-floorarea', 'listing-floorarea 2'],\n",
       "      dtype='object')"
      ]
     },
     "execution_count": 7,
     "metadata": {},
     "output_type": "execute_result"
    }
   ],
   "source": [
    "df.columns"
   ]
  },
  {
   "cell_type": "code",
   "execution_count": 8,
   "metadata": {},
   "outputs": [
    {
     "data": {
      "text/plain": [
       "numpy.ndarray"
      ]
     },
     "execution_count": 8,
     "metadata": {},
     "output_type": "execute_result"
    }
   ],
   "source": [
    "type(df.columns.values)"
   ]
  },
  {
   "cell_type": "markdown",
   "metadata": {},
   "source": [
    "Data memliki 29420 baris dan 7 kolom ('nav-link href', 'listing-location', 'price', 'bed', 'bath',\n",
    "       'listing-floorarea', 'listing-floorarea 2')"
   ]
  },
  {
   "cell_type": "code",
   "execution_count": 9,
   "metadata": {},
   "outputs": [
    {
     "data": {
      "text/plain": [
       "nav-link href            0\n",
       "listing-location         0\n",
       "price                    0\n",
       "bed                    138\n",
       "bath                   205\n",
       "listing-floorarea        0\n",
       "listing-floorarea 2     37\n",
       "dtype: int64"
      ]
     },
     "execution_count": 9,
     "metadata": {},
     "output_type": "execute_result"
    }
   ],
   "source": [
    "df.isna().sum()"
   ]
  },
  {
   "cell_type": "markdown",
   "metadata": {},
   "source": [
    "Terdapat data kosong pada kolom 'bad'=138,'bath'=205,'listing-floorarea 2'= 37"
   ]
  },
  {
   "cell_type": "markdown",
   "metadata": {},
   "source": [
    "<h2>Membersihkan data </h2>"
   ]
  },
  {
   "cell_type": "markdown",
   "metadata": {},
   "source": [
    "dari hasil analisi bentuk data di atas di temukan beberapa kolam yang tidak sesuai untuk mempermudah kita akan fixtype data\n"
   ]
  },
  {
   "cell_type": "code",
   "execution_count": 10,
   "metadata": {},
   "outputs": [
    {
     "name": "stdout",
     "output_type": "stream",
     "text": [
      "sebelum drop nav-link href : (29420, 7)\n"
     ]
    }
   ],
   "source": [
    "print(\"sebelum drop nav-link href :\", data.shape)\n",
    "df = df.drop([\"nav-link href\"] ,axis= 1)"
   ]
  },
  {
   "cell_type": "code",
   "execution_count": 11,
   "metadata": {},
   "outputs": [
    {
     "name": "stdout",
     "output_type": "stream",
     "text": [
      "sesudah drop nav-link href : (29420, 6)\n"
     ]
    }
   ],
   "source": [
    "print(\"sesudah drop nav-link href :\", df.shape)"
   ]
  },
  {
   "cell_type": "markdown",
   "metadata": {},
   "source": [
    "<h2>Bed & Bath column missing values handling</h2>"
   ]
  },
  {
   "cell_type": "markdown",
   "metadata": {},
   "source": [
    "Untuk bad dan bath saya menggunakan metode Interpolate Missing Values untuk memperkirakan dan mengisi nilai yang hilang berdasarkan data yang tersedia."
   ]
  },
  {
   "cell_type": "code",
   "execution_count": 12,
   "metadata": {},
   "outputs": [
    {
     "name": "stderr",
     "output_type": "stream",
     "text": [
      "C:\\Users\\user\\AppData\\Local\\Temp\\ipykernel_4472\\1165734804.py:1: FutureWarning: A value is trying to be set on a copy of a DataFrame or Series through chained assignment using an inplace method.\n",
      "The behavior will change in pandas 3.0. This inplace method will never work because the intermediate object on which we are setting values always behaves as a copy.\n",
      "\n",
      "For example, when doing 'df[col].method(value, inplace=True)', try using 'df.method({col: value}, inplace=True)' or df[col] = df[col].method(value) instead, to perform the operation inplace on the original object.\n",
      "\n",
      "\n",
      "  df['bed'].interpolate(method='linear', inplace=True)\n",
      "C:\\Users\\user\\AppData\\Local\\Temp\\ipykernel_4472\\1165734804.py:2: FutureWarning: A value is trying to be set on a copy of a DataFrame or Series through chained assignment using an inplace method.\n",
      "The behavior will change in pandas 3.0. This inplace method will never work because the intermediate object on which we are setting values always behaves as a copy.\n",
      "\n",
      "For example, when doing 'df[col].method(value, inplace=True)', try using 'df.method({col: value}, inplace=True)' or df[col] = df[col].method(value) instead, to perform the operation inplace on the original object.\n",
      "\n",
      "\n",
      "  df['bath'].interpolate(method='linear', inplace=True)\n"
     ]
    }
   ],
   "source": [
    "df['bed'].interpolate(method='linear', inplace=True)\n",
    "df['bath'].interpolate(method='linear', inplace=True)"
   ]
  },
  {
   "cell_type": "code",
   "execution_count": 13,
   "metadata": {},
   "outputs": [
    {
     "data": {
      "text/plain": [
       "listing-location        0\n",
       "price                   0\n",
       "bed                     0\n",
       "bath                    0\n",
       "listing-floorarea       0\n",
       "listing-floorarea 2    37\n",
       "dtype: int64"
      ]
     },
     "execution_count": 13,
     "metadata": {},
     "output_type": "execute_result"
    }
   ],
   "source": [
    "df.isna().sum()"
   ]
  },
  {
   "cell_type": "markdown",
   "metadata": {},
   "source": [
    "<h2>data wrangling </h2>"
   ]
  },
  {
   "cell_type": "markdown",
   "metadata": {},
   "source": [
    "<h3> merubah nilai pada price menjadi data  numerik agar lebih mudah di baca</h3>"
   ]
  },
  {
   "cell_type": "code",
   "execution_count": 14,
   "metadata": {},
   "outputs": [],
   "source": [
    "# Fungsi untuk menghapus karakter non-numerik dan mengonversi ke float\n",
    "def convert_to_numeric(value):\n",
    "    try:\n",
    "        # Handle ranges\n",
    "        if '-' in value:\n",
    "            parts = value.split('-')\n",
    "            parts = [re.sub(r'[^\\d.,Mjt]', '', part).strip() for part in parts]\n",
    "            parts = [convert_to_float(part) for part in parts]\n",
    "            return sum(parts) / len(parts)\n",
    "        # Handle individual values\n",
    "        value = re.sub(r'[^\\d.,Mjt]', '', value).strip()\n",
    "        return convert_to_float(value)\n",
    "\n",
    "    except ValueError as e:\n",
    "        print(f\"Error parsing value: {value} - {e}\")\n",
    "        return None\n",
    "\n",
    "def convert_to_float(value):\n",
    "    if 'M' in value:\n",
    "        value = value.replace('M', '')\n",
    "        value = value.replace(',', '.')  # Replace comma with dot for float conversion\n",
    "        return float(value)* 1000_000_000\n",
    "    elif 'jt' in value:\n",
    "        value = value.replace('jt', '')\n",
    "        value = value.replace(',', '.')  # Replace comma with dot for float conversion\n",
    "        return float(value)* 1000_000\n",
    "    else:\n",
    "        value = value.replace(',', '.')  # Replace comma with dot for float conversion\n",
    "        return float(value)\n",
    "\n"
   ]
  },
  {
   "cell_type": "markdown",
   "metadata": {},
   "source": [
    "<div class=\"alert alert-block alert-warning\">\n",
    "<b>catatan:</b> Jika kode untuk menghapus koma dan mengonversi ke float tidak memberikan hasil yang diharapkan, ada kemungkinan beberapa data dalam kolom price tidak berformat string atau memiliki masalah lain yang mempengaruhi konversi. Pastikan semua data dalam kolom tersebut adalah string sebelum melakukan konversi."
   ]
  },
  {
   "cell_type": "code",
   "execution_count": 15,
   "metadata": {},
   "outputs": [],
   "source": [
    "# Terapkan fungsi ke kolom 'Harga'\n",
    "df['price'] = df['price'].apply(convert_to_numeric)\n",
    "\n",
    "# Mengubah tipe data kolom 'price' menjadi string, menghapus koma, dan mengonversi ke float\n",
    "df['price'] = df['price'].astype(str).str.replace(',', '').astype(float)\n",
    "\n",
    "# Jika Anda perlu menampilkan atau menyimpan data dengan format ribuan (misalnya untuk laporan), lakukan format tersebut pada saat itu:\n",
    "df['price_formatted'] = df['price'].apply(lambda x: '{:,.0f}'.format(x))\n"
   ]
  },
  {
   "cell_type": "markdown",
   "metadata": {},
   "source": [
    "<h3>listing-floorarea menjadi numeric</h3>"
   ]
  },
  {
   "cell_type": "code",
   "execution_count": 16,
   "metadata": {},
   "outputs": [],
   "source": [
    "df['listing-floorarea'] = df['listing-floorarea'].str.replace(' m²', '')\n",
    "df['listing-floorarea'] = pd.to_numeric(df['listing-floorarea'])"
   ]
  },
  {
   "cell_type": "markdown",
   "metadata": {},
   "source": [
    "<h3>merubah listing-floorarea 2 nama dan bentuk</h3>"
   ]
  },
  {
   "cell_type": "code",
   "execution_count": 17,
   "metadata": {},
   "outputs": [],
   "source": [
    "# Set locale to Indonesian\n",
    "locale.setlocale(locale.LC_ALL, 'id_ID.UTF-8')\n",
    "# Fungsi untuk menghapus karakter non-numerik dan mengonversi ke integer\n",
    "def convert_to_numeric_1(value):\n",
    "    if isinstance(value, str):\n",
    "        numeric_string = re.sub(r'[^\\d.]', '', value)\n",
    "        return int(locale.atof(numeric_string))  # Konversi eksplisit ke integer\n",
    "    else:\n",
    "        return value\n",
    "# Terapkan fungsi ke kolom 'Harga'\n",
    "df['listing-floorarea 2']  = df['listing-floorarea 2'].apply(convert_to_numeric_1)\n",
    "# hapus data yang kosong\n",
    "df = df.dropna()\n",
    "# ubah menjadi interger\n",
    "df['listing-floorarea 2']  = df['listing-floorarea 2'].astype(int)"
   ]
  },
  {
   "cell_type": "code",
   "execution_count": 18,
   "metadata": {},
   "outputs": [],
   "source": [
    "df.rename(columns={'listing-floorarea 2': 'harga_permeter_persegi'}, inplace=True)"
   ]
  },
  {
   "cell_type": "markdown",
   "metadata": {},
   "source": [
    "<div class=\"alert alert-block alert-warning\">\n",
    "<b>Example:</b> 6.900000e+09 adalah notasi ilmiah yang mewakili angka 6,900,000,000 atau enam miliar sembilan ratus juta.\n",
    "<br>\n",
    "9.500000e+08 adalah notasi ilmiah yang mewakili angka 950,000,000 atau sembilan ratus lima puluh juta.\n",
    "</div>"
   ]
  },
  {
   "cell_type": "code",
   "execution_count": 19,
   "metadata": {},
   "outputs": [],
   "source": [
    "\n",
    "df['bed'] = df['bed'].astype(float)\n",
    "df['bath'] = df['bath'].astype(float)\n",
    "df['listing-floorarea'] = df['listing-floorarea'].astype(float)\n",
    "df['harga_permeter_persegi'] = df['harga_permeter_persegi'].astype(float)\n"
   ]
  },
  {
   "cell_type": "code",
   "execution_count": 20,
   "metadata": {},
   "outputs": [
    {
     "data": {
      "application/vnd.microsoft.datawrangler.viewer.v0+json": {
       "columns": [
        {
         "name": "index",
         "rawType": "int64",
         "type": "integer"
        },
        {
         "name": "listing-location",
         "rawType": "object",
         "type": "string"
        },
        {
         "name": "price",
         "rawType": "float64",
         "type": "float"
        },
        {
         "name": "bed",
         "rawType": "float64",
         "type": "float"
        },
        {
         "name": "bath",
         "rawType": "float64",
         "type": "float"
        },
        {
         "name": "listing-floorarea",
         "rawType": "float64",
         "type": "float"
        },
        {
         "name": "harga_permeter_persegi",
         "rawType": "float64",
         "type": "float"
        },
        {
         "name": "price_formatted",
         "rawType": "object",
         "type": "string"
        }
       ],
       "conversionMethod": "pd.DataFrame",
       "ref": "5d2a9360-08e3-4bbf-ab98-736c6afede39",
       "rows": [
        [
         "0",
         "Gading Serpong, Tangerang Selatan, Banten",
         "6900000000.0",
         "5.0",
         "5.0",
         "420.0",
         "20720721.0",
         "6,900,000,000"
        ],
        [
         "1",
         "Gading Serpong, Tangerang Selatan, Banten",
         "4500000000.0",
         "3.0",
         "3.0",
         "190.0",
         "12747875.0",
         "4,500,000,000"
        ],
        [
         "2",
         "Gading Serpong, Tangerang Selatan, Banten",
         "3950000000.0",
         "3.0",
         "3.0",
         "132.0",
         "30859375.0",
         "3,950,000,000"
        ],
        [
         "3",
         "Gading Serpong, Tangerang Selatan, Banten",
         "3300000000.0",
         "4.0",
         "3.0",
         "220.0",
         "18333333.0",
         "3,300,000,000"
        ],
        [
         "4",
         "Gading Serpong, Tangerang Selatan, Banten",
         "3500000000.0",
         "3.0",
         "2.0",
         "180.0",
         "27777778.0",
         "3,500,000,000"
        ],
        [
         "5",
         "Gading Serpong, Tangerang Selatan, Banten",
         "4500000000.0",
         "5.0",
         "4.0",
         "194.0",
         "18672199.0",
         "4,500,000,000"
        ],
        [
         "6",
         "Gading Serpong, Tangerang Selatan, Banten",
         "4500000000.0",
         "4.0",
         "3.0",
         "160.0",
         "16544118.0",
         "4,500,000,000"
        ],
        [
         "7",
         "Gading Serpong, Tangerang Selatan, Banten",
         "4500000000.0",
         "3.0",
         "3.0",
         "190.0",
         "12747875.0",
         "4,500,000,000"
        ],
        [
         "8",
         "Gading Serpong, Tangerang Selatan, Banten",
         "4500000000.0",
         "3.0",
         "3.0",
         "120.0",
         "14062500.0",
         "4,500,000,000"
        ],
        [
         "9",
         "BSD, Tangerang Selatan, Banten",
         "2200000000.0",
         "5.0",
         "4.0",
         "140.0",
         "19642857.0",
         "2,200,000,000"
        ],
        [
         "10",
         "Jalan cempaka, Bintaro, Tangerang Selatan, Banten",
         "2732000000.0",
         "4.0",
         "3.0",
         "112.0",
         "28757895.0",
         "2,732,000,000"
        ],
        [
         "11",
         "Gading Serpong, Tangerang Selatan, Banten",
         "3100000000.0",
         "5.0",
         "3.0",
         "200.0",
         "19135802.0",
         "3,100,000,000"
        ],
        [
         "12",
         "Gading Serpong, Tangerang Selatan, Banten",
         "2500000000.0",
         "4.0",
         "4.0",
         "150.0",
         "16233766.0",
         "2,500,000,000"
        ],
        [
         "13",
         "Alam Sutera, Tangerang Selatan, Banten",
         "4700000000.0",
         "4.0",
         "4.0",
         "400.0",
         "23500000.0",
         "4,700,000,000"
        ],
        [
         "14",
         "Gading Serpong, Tangerang Selatan, Banten",
         "2350000000.0",
         "5.0",
         "4.0",
         "128.0",
         "19583333.0",
         "2,350,000,000"
        ],
        [
         "15",
         "Gading Serpong, Tangerang Selatan, Banten",
         "2500000000.0",
         "4.0",
         "3.0",
         "128.0",
         "20833333.0",
         "2,500,000,000"
        ],
        [
         "16",
         "BSD, Tangerang Selatan, Banten",
         "2400000000.0",
         "3.0",
         "2.0",
         "100.0",
         "12000000.0",
         "2,400,000,000"
        ],
        [
         "17",
         "Jl Gading Serpong, Gading Serpong, Tangerang Selatan, Banten",
         "3250000000.0",
         "3.0",
         "3.0",
         "160.0",
         "25390625.0",
         "3,250,000,000"
        ],
        [
         "18",
         "Bintaro, Tangerang Selatan, Banten",
         "1900000000.0",
         "3.0",
         "2.0",
         "150.0",
         "16101695.0",
         "1,900,000,000"
        ],
        [
         "19",
         "Jl Gading Serpong, Gading Serpong, Tangerang Selatan, Banten",
         "950000000.0",
         "2.0",
         "1.0",
         "60.0",
         "10555556.0",
         "950,000,000"
        ],
        [
         "20",
         "Jl Gading Serpong, Gading Serpong, Tangerang Selatan, Banten",
         "950000000.0",
         "2.0",
         "1.0",
         "60.0",
         "10555556.0",
         "950,000,000"
        ],
        [
         "21",
         "Jl Gading Serpong, Gading Serpong, Tangerang Selatan, Banten",
         "875000000.0",
         "2.0",
         "1.0",
         "36.0",
         "12152778.0",
         "875,000,000"
        ],
        [
         "22",
         "Jl Gading Sektor, Gading Serpong, Tangerang Selatan, Banten",
         "2000000000.0",
         "3.0",
         "2.0",
         "100.0",
         "27777778.0",
         "2,000,000,000"
        ],
        [
         "23",
         "Gading Serpong, Tangerang Selatan, Banten",
         "2500000000.0",
         "4.0",
         "2.0",
         "135.0",
         "19841270.0",
         "2,500,000,000"
        ],
        [
         "24",
         "Gading Serpong, Tangerang Selatan, Banten",
         "3000000000.0",
         "3.0",
         "3.0",
         "240.0",
         "25000000.0",
         "3,000,000,000"
        ],
        [
         "25",
         "Gading Serpong, Tangerang Selatan, Banten",
         "3500000000.0",
         "5.0",
         "4.0",
         "130.0",
         "27343750.0",
         "3,500,000,000"
        ],
        [
         "26",
         "Gading Serpong, Tangerang Selatan, Banten",
         "7500000000.0",
         "5.0",
         "7.0",
         "308.0",
         "30000000.0",
         "7,500,000,000"
        ],
        [
         "27",
         "Jl Sektor Gading Serpong, Gading Serpong, Tangerang Selatan, Banten",
         "1550000000.0",
         "2.0",
         "2.0",
         "126.0",
         "15500000.0",
         "1,550,000,000"
        ],
        [
         "28",
         "Jl Gading Serpong, Gading Serpong, Tangerang Selatan, Banten",
         "6900000000.0",
         "4.0",
         "4.0",
         "349.0",
         "23000000.0",
         "6,900,000,000"
        ],
        [
         "29",
         "Gading Serpong, Tangerang Selatan, Banten",
         "900000000.0",
         "2.0",
         "1.0",
         "50.0",
         "12500000.0",
         "900,000,000"
        ],
        [
         "30",
         "Jl Gading Serpong, Gading Serpong, Tangerang Selatan, Banten",
         "3850000000.0",
         "4.0",
         "3.0",
         "157.0",
         "12833333.0",
         "3,850,000,000"
        ],
        [
         "31",
         "Jl Gading Serpong, Gading Serpong, Tangerang Selatan, Banten",
         "3200000000.0",
         "3.0",
         "3.0",
         "135.0",
         "25000000.0",
         "3,200,000,000"
        ],
        [
         "32",
         "BSD, Tangerang Selatan, Banten",
         "3000000000.0",
         "4.0",
         "4.0",
         "144.0",
         "25000000.0",
         "3,000,000,000"
        ],
        [
         "33",
         "Serpong, Tangerang Selatan, Banten",
         "5500000000.0",
         "6.0",
         "5.0",
         "600.0",
         "21825397.0",
         "5,500,000,000"
        ],
        [
         "34",
         "BSD, Tangerang Selatan, Banten",
         "990000000.0",
         "3.0",
         "2.0",
         "90.0",
         "30937500.0",
         "990,000,000"
        ],
        [
         "35",
         "Gading Serpong, Tangerang Selatan, Banten",
         "1950000000.0",
         "5.0",
         "3.0",
         "120.0",
         "26351351.0",
         "1,950,000,000"
        ],
        [
         "36",
         "Gading Serpong, Tangerang Selatan, Banten",
         "2550000000.0",
         "4.0",
         "3.0",
         "105.0",
         "24285714.0",
         "2,550,000,000"
        ],
        [
         "37",
         "Jl Cluster Berryl, Gading Serpong, Tangerang Selatan, Banten",
         "2500000000.0",
         "3.0",
         "3.0",
         "120.0",
         "20833333.0",
         "2,500,000,000"
        ],
        [
         "38",
         "Bintaro, Tangerang Selatan, Banten",
         "2350000000.0",
         "3.0",
         "3.0",
         "89.0",
         "27976190.0",
         "2,350,000,000"
        ],
        [
         "39",
         "Graha Carissa, Serpong Utara, Tangerang Selatan, Banten",
         "1700000000.0",
         "2.0",
         "1.0",
         "90.0",
         "15740741.0",
         "1,700,000,000"
        ],
        [
         "40",
         "Cluster Graha Raya Bintaro, Bintaro, Tangerang Selatan, Banten",
         "1850000000.0",
         "5.0",
         "4.0",
         "150.0",
         "18877551.0",
         "1,850,000,000"
        ],
        [
         "41",
         "Sektor 9, Bintaro, Tangerang Selatan, Banten",
         "3850000000.0",
         "5.0",
         "4.0",
         "180.0",
         "25163399.0",
         "3,850,000,000"
        ],
        [
         "42",
         "Cluster Graha Raya Bintaro, Bintaro, Tangerang Selatan, Banten",
         "4900000000.0",
         "6.0",
         "4.0",
         "365.0",
         "17013889.0",
         "4,900,000,000"
        ],
        [
         "43",
         "Bintaro, Bintaro, Tangerang Selatan, Banten",
         "675000000.0",
         "2.0",
         "1.0",
         "50.0",
         "8881579.0",
         "675,000,000"
        ],
        [
         "44",
         "Graha Bintaro, Bintaro, Tangerang Selatan, Banten",
         "1800000000.0",
         "5.0",
         "4.0",
         "150.0",
         "17142857.0",
         "1,800,000,000"
        ],
        [
         "45",
         "Cluster Strozzi Symphonia Gading Serpong, BSD, Tangerang Selatan, Banten",
         "2495000000.0",
         "4.0",
         "3.0",
         "92.0",
         "29702381.0",
         "2,495,000,000"
        ],
        [
         "46",
         "Serpong, Tangerang Selatan, Banten",
         "1090000000.0",
         "2.0",
         "1.0",
         "41.0",
         "15138889.0",
         "1,090,000,000"
        ],
        [
         "47",
         "jln Pandawa, Pamulang, Tangerang Selatan, Banten",
         "900000000.0",
         "3.0",
         "3.0",
         "69.0",
         "10714286.0",
         "900,000,000"
        ],
        [
         "48",
         "Pondok Benda, Pamulang, Tangerang Selatan, Banten",
         "535000000.0",
         "2.0",
         "1.0",
         "38.0",
         "8916667.0",
         "535,000,000"
        ],
        [
         "49",
         "Pondok Benda, Pamulang, Tangerang Selatan, Banten",
         "535000000.0",
         "2.0",
         "1.0",
         "38.0",
         "8916667.0",
         "535,000,000"
        ]
       ],
       "shape": {
        "columns": 7,
        "rows": 29383
       }
      },
      "text/html": [
       "<div>\n",
       "<style scoped>\n",
       "    .dataframe tbody tr th:only-of-type {\n",
       "        vertical-align: middle;\n",
       "    }\n",
       "\n",
       "    .dataframe tbody tr th {\n",
       "        vertical-align: top;\n",
       "    }\n",
       "\n",
       "    .dataframe thead th {\n",
       "        text-align: right;\n",
       "    }\n",
       "</style>\n",
       "<table border=\"1\" class=\"dataframe\">\n",
       "  <thead>\n",
       "    <tr style=\"text-align: right;\">\n",
       "      <th></th>\n",
       "      <th>listing-location</th>\n",
       "      <th>price</th>\n",
       "      <th>bed</th>\n",
       "      <th>bath</th>\n",
       "      <th>listing-floorarea</th>\n",
       "      <th>harga_permeter_persegi</th>\n",
       "      <th>price_formatted</th>\n",
       "    </tr>\n",
       "  </thead>\n",
       "  <tbody>\n",
       "    <tr>\n",
       "      <th>0</th>\n",
       "      <td>Gading Serpong, Tangerang Selatan, Banten</td>\n",
       "      <td>6.900000e+09</td>\n",
       "      <td>5.0</td>\n",
       "      <td>5.0</td>\n",
       "      <td>420.0</td>\n",
       "      <td>20720721.0</td>\n",
       "      <td>6,900,000,000</td>\n",
       "    </tr>\n",
       "    <tr>\n",
       "      <th>1</th>\n",
       "      <td>Gading Serpong, Tangerang Selatan, Banten</td>\n",
       "      <td>4.500000e+09</td>\n",
       "      <td>3.0</td>\n",
       "      <td>3.0</td>\n",
       "      <td>190.0</td>\n",
       "      <td>12747875.0</td>\n",
       "      <td>4,500,000,000</td>\n",
       "    </tr>\n",
       "    <tr>\n",
       "      <th>2</th>\n",
       "      <td>Gading Serpong, Tangerang Selatan, Banten</td>\n",
       "      <td>3.950000e+09</td>\n",
       "      <td>3.0</td>\n",
       "      <td>3.0</td>\n",
       "      <td>132.0</td>\n",
       "      <td>30859375.0</td>\n",
       "      <td>3,950,000,000</td>\n",
       "    </tr>\n",
       "    <tr>\n",
       "      <th>3</th>\n",
       "      <td>Gading Serpong, Tangerang Selatan, Banten</td>\n",
       "      <td>3.300000e+09</td>\n",
       "      <td>4.0</td>\n",
       "      <td>3.0</td>\n",
       "      <td>220.0</td>\n",
       "      <td>18333333.0</td>\n",
       "      <td>3,300,000,000</td>\n",
       "    </tr>\n",
       "    <tr>\n",
       "      <th>4</th>\n",
       "      <td>Gading Serpong, Tangerang Selatan, Banten</td>\n",
       "      <td>3.500000e+09</td>\n",
       "      <td>3.0</td>\n",
       "      <td>2.0</td>\n",
       "      <td>180.0</td>\n",
       "      <td>27777778.0</td>\n",
       "      <td>3,500,000,000</td>\n",
       "    </tr>\n",
       "    <tr>\n",
       "      <th>...</th>\n",
       "      <td>...</td>\n",
       "      <td>...</td>\n",
       "      <td>...</td>\n",
       "      <td>...</td>\n",
       "      <td>...</td>\n",
       "      <td>...</td>\n",
       "      <td>...</td>\n",
       "    </tr>\n",
       "    <tr>\n",
       "      <th>29415</th>\n",
       "      <td>Bintaro, Tangerang Selatan, Banten</td>\n",
       "      <td>3.300000e+09</td>\n",
       "      <td>3.0</td>\n",
       "      <td>3.0</td>\n",
       "      <td>300.0</td>\n",
       "      <td>21710526.0</td>\n",
       "      <td>3,300,000,000</td>\n",
       "    </tr>\n",
       "    <tr>\n",
       "      <th>29416</th>\n",
       "      <td>Bintaro, Tangerang Selatan, Banten</td>\n",
       "      <td>4.000000e+09</td>\n",
       "      <td>8.0</td>\n",
       "      <td>4.0</td>\n",
       "      <td>330.0</td>\n",
       "      <td>36363636.0</td>\n",
       "      <td>4,000,000,000</td>\n",
       "    </tr>\n",
       "    <tr>\n",
       "      <th>29417</th>\n",
       "      <td>Bintaro, Tangerang Selatan, Banten</td>\n",
       "      <td>2.200000e+09</td>\n",
       "      <td>3.0</td>\n",
       "      <td>2.0</td>\n",
       "      <td>160.0</td>\n",
       "      <td>18333333.0</td>\n",
       "      <td>2,200,000,000</td>\n",
       "    </tr>\n",
       "    <tr>\n",
       "      <th>29418</th>\n",
       "      <td>Bintaro, Tangerang Selatan, Banten</td>\n",
       "      <td>1.950000e+09</td>\n",
       "      <td>3.0</td>\n",
       "      <td>2.0</td>\n",
       "      <td>120.0</td>\n",
       "      <td>21666667.0</td>\n",
       "      <td>1,950,000,000</td>\n",
       "    </tr>\n",
       "    <tr>\n",
       "      <th>29419</th>\n",
       "      <td>Bintaro, Tangerang Selatan, Banten</td>\n",
       "      <td>5.500000e+09</td>\n",
       "      <td>4.0</td>\n",
       "      <td>3.0</td>\n",
       "      <td>200.0</td>\n",
       "      <td>30555556.0</td>\n",
       "      <td>5,500,000,000</td>\n",
       "    </tr>\n",
       "  </tbody>\n",
       "</table>\n",
       "<p>29383 rows × 7 columns</p>\n",
       "</div>"
      ],
      "text/plain": [
       "                                listing-location         price  bed  bath  \\\n",
       "0      Gading Serpong, Tangerang Selatan, Banten  6.900000e+09  5.0   5.0   \n",
       "1      Gading Serpong, Tangerang Selatan, Banten  4.500000e+09  3.0   3.0   \n",
       "2      Gading Serpong, Tangerang Selatan, Banten  3.950000e+09  3.0   3.0   \n",
       "3      Gading Serpong, Tangerang Selatan, Banten  3.300000e+09  4.0   3.0   \n",
       "4      Gading Serpong, Tangerang Selatan, Banten  3.500000e+09  3.0   2.0   \n",
       "...                                          ...           ...  ...   ...   \n",
       "29415         Bintaro, Tangerang Selatan, Banten  3.300000e+09  3.0   3.0   \n",
       "29416         Bintaro, Tangerang Selatan, Banten  4.000000e+09  8.0   4.0   \n",
       "29417         Bintaro, Tangerang Selatan, Banten  2.200000e+09  3.0   2.0   \n",
       "29418         Bintaro, Tangerang Selatan, Banten  1.950000e+09  3.0   2.0   \n",
       "29419         Bintaro, Tangerang Selatan, Banten  5.500000e+09  4.0   3.0   \n",
       "\n",
       "       listing-floorarea  harga_permeter_persegi price_formatted  \n",
       "0                  420.0              20720721.0   6,900,000,000  \n",
       "1                  190.0              12747875.0   4,500,000,000  \n",
       "2                  132.0              30859375.0   3,950,000,000  \n",
       "3                  220.0              18333333.0   3,300,000,000  \n",
       "4                  180.0              27777778.0   3,500,000,000  \n",
       "...                  ...                     ...             ...  \n",
       "29415              300.0              21710526.0   3,300,000,000  \n",
       "29416              330.0              36363636.0   4,000,000,000  \n",
       "29417              160.0              18333333.0   2,200,000,000  \n",
       "29418              120.0              21666667.0   1,950,000,000  \n",
       "29419              200.0              30555556.0   5,500,000,000  \n",
       "\n",
       "[29383 rows x 7 columns]"
      ]
     },
     "execution_count": 20,
     "metadata": {},
     "output_type": "execute_result"
    }
   ],
   "source": [
    "df"
   ]
  },
  {
   "cell_type": "code",
   "execution_count": 21,
   "metadata": {},
   "outputs": [
    {
     "name": "stdout",
     "output_type": "stream",
     "text": [
      "<class 'pandas.core.frame.DataFrame'>\n",
      "Index: 29383 entries, 0 to 29419\n",
      "Data columns (total 7 columns):\n",
      " #   Column                  Non-Null Count  Dtype  \n",
      "---  ------                  --------------  -----  \n",
      " 0   listing-location        29383 non-null  object \n",
      " 1   price                   29383 non-null  float64\n",
      " 2   bed                     29383 non-null  float64\n",
      " 3   bath                    29383 non-null  float64\n",
      " 4   listing-floorarea       29383 non-null  float64\n",
      " 5   harga_permeter_persegi  29383 non-null  float64\n",
      " 6   price_formatted         29383 non-null  object \n",
      "dtypes: float64(5), object(2)\n",
      "memory usage: 1.8+ MB\n"
     ]
    }
   ],
   "source": [
    "df.info()"
   ]
  },
  {
   "cell_type": "code",
   "execution_count": 22,
   "metadata": {},
   "outputs": [
    {
     "data": {
      "text/plain": [
       "listing-location          0\n",
       "price                     0\n",
       "bed                       0\n",
       "bath                      0\n",
       "listing-floorarea         0\n",
       "harga_permeter_persegi    0\n",
       "price_formatted           0\n",
       "dtype: int64"
      ]
     },
     "execution_count": 22,
     "metadata": {},
     "output_type": "execute_result"
    }
   ],
   "source": [
    "df.isnull().sum()   "
   ]
  },
  {
   "cell_type": "code",
   "execution_count": 23,
   "metadata": {},
   "outputs": [
    {
     "data": {
      "text/plain": [
       "(29383, 7)"
      ]
     },
     "execution_count": 23,
     "metadata": {},
     "output_type": "execute_result"
    }
   ],
   "source": [
    "df.shape"
   ]
  },
  {
   "cell_type": "code",
   "execution_count": 24,
   "metadata": {},
   "outputs": [
    {
     "data": {
      "application/vnd.microsoft.datawrangler.viewer.v0+json": {
       "columns": [
        {
         "name": "index",
         "rawType": "int64",
         "type": "integer"
        },
        {
         "name": "listing-location",
         "rawType": "object",
         "type": "string"
        },
        {
         "name": "price",
         "rawType": "float64",
         "type": "float"
        },
        {
         "name": "bed",
         "rawType": "float64",
         "type": "float"
        },
        {
         "name": "bath",
         "rawType": "float64",
         "type": "float"
        },
        {
         "name": "listing-floorarea",
         "rawType": "float64",
         "type": "float"
        },
        {
         "name": "harga_permeter_persegi",
         "rawType": "float64",
         "type": "float"
        },
        {
         "name": "price_formatted",
         "rawType": "object",
         "type": "string"
        }
       ],
       "conversionMethod": "pd.DataFrame",
       "ref": "18bc51a3-3b25-4d1f-a379-712f24529dc4",
       "rows": [
        [
         "0",
         "Gading Serpong, Tangerang Selatan, Banten",
         "6900000000.0",
         "5.0",
         "5.0",
         "420.0",
         "20720721.0",
         "6,900,000,000"
        ],
        [
         "1",
         "Gading Serpong, Tangerang Selatan, Banten",
         "4500000000.0",
         "3.0",
         "3.0",
         "190.0",
         "12747875.0",
         "4,500,000,000"
        ],
        [
         "2",
         "Gading Serpong, Tangerang Selatan, Banten",
         "3950000000.0",
         "3.0",
         "3.0",
         "132.0",
         "30859375.0",
         "3,950,000,000"
        ],
        [
         "3",
         "Gading Serpong, Tangerang Selatan, Banten",
         "3300000000.0",
         "4.0",
         "3.0",
         "220.0",
         "18333333.0",
         "3,300,000,000"
        ],
        [
         "4",
         "Gading Serpong, Tangerang Selatan, Banten",
         "3500000000.0",
         "3.0",
         "2.0",
         "180.0",
         "27777778.0",
         "3,500,000,000"
        ],
        [
         "5",
         "Gading Serpong, Tangerang Selatan, Banten",
         "4500000000.0",
         "5.0",
         "4.0",
         "194.0",
         "18672199.0",
         "4,500,000,000"
        ],
        [
         "6",
         "Gading Serpong, Tangerang Selatan, Banten",
         "4500000000.0",
         "4.0",
         "3.0",
         "160.0",
         "16544118.0",
         "4,500,000,000"
        ],
        [
         "7",
         "Gading Serpong, Tangerang Selatan, Banten",
         "4500000000.0",
         "3.0",
         "3.0",
         "190.0",
         "12747875.0",
         "4,500,000,000"
        ],
        [
         "8",
         "Gading Serpong, Tangerang Selatan, Banten",
         "4500000000.0",
         "3.0",
         "3.0",
         "120.0",
         "14062500.0",
         "4,500,000,000"
        ],
        [
         "9",
         "BSD, Tangerang Selatan, Banten",
         "2200000000.0",
         "5.0",
         "4.0",
         "140.0",
         "19642857.0",
         "2,200,000,000"
        ],
        [
         "10",
         "Jalan cempaka, Bintaro, Tangerang Selatan, Banten",
         "2732000000.0",
         "4.0",
         "3.0",
         "112.0",
         "28757895.0",
         "2,732,000,000"
        ],
        [
         "11",
         "Gading Serpong, Tangerang Selatan, Banten",
         "3100000000.0",
         "5.0",
         "3.0",
         "200.0",
         "19135802.0",
         "3,100,000,000"
        ],
        [
         "12",
         "Gading Serpong, Tangerang Selatan, Banten",
         "2500000000.0",
         "4.0",
         "4.0",
         "150.0",
         "16233766.0",
         "2,500,000,000"
        ],
        [
         "13",
         "Alam Sutera, Tangerang Selatan, Banten",
         "4700000000.0",
         "4.0",
         "4.0",
         "400.0",
         "23500000.0",
         "4,700,000,000"
        ],
        [
         "14",
         "Gading Serpong, Tangerang Selatan, Banten",
         "2350000000.0",
         "5.0",
         "4.0",
         "128.0",
         "19583333.0",
         "2,350,000,000"
        ],
        [
         "15",
         "Gading Serpong, Tangerang Selatan, Banten",
         "2500000000.0",
         "4.0",
         "3.0",
         "128.0",
         "20833333.0",
         "2,500,000,000"
        ],
        [
         "16",
         "BSD, Tangerang Selatan, Banten",
         "2400000000.0",
         "3.0",
         "2.0",
         "100.0",
         "12000000.0",
         "2,400,000,000"
        ],
        [
         "17",
         "Jl Gading Serpong, Gading Serpong, Tangerang Selatan, Banten",
         "3250000000.0",
         "3.0",
         "3.0",
         "160.0",
         "25390625.0",
         "3,250,000,000"
        ],
        [
         "18",
         "Bintaro, Tangerang Selatan, Banten",
         "1900000000.0",
         "3.0",
         "2.0",
         "150.0",
         "16101695.0",
         "1,900,000,000"
        ],
        [
         "19",
         "Jl Gading Serpong, Gading Serpong, Tangerang Selatan, Banten",
         "950000000.0",
         "2.0",
         "1.0",
         "60.0",
         "10555556.0",
         "950,000,000"
        ],
        [
         "20",
         "Jl Gading Serpong, Gading Serpong, Tangerang Selatan, Banten",
         "950000000.0",
         "2.0",
         "1.0",
         "60.0",
         "10555556.0",
         "950,000,000"
        ],
        [
         "21",
         "Jl Gading Serpong, Gading Serpong, Tangerang Selatan, Banten",
         "875000000.0",
         "2.0",
         "1.0",
         "36.0",
         "12152778.0",
         "875,000,000"
        ],
        [
         "22",
         "Jl Gading Sektor, Gading Serpong, Tangerang Selatan, Banten",
         "2000000000.0",
         "3.0",
         "2.0",
         "100.0",
         "27777778.0",
         "2,000,000,000"
        ],
        [
         "23",
         "Gading Serpong, Tangerang Selatan, Banten",
         "2500000000.0",
         "4.0",
         "2.0",
         "135.0",
         "19841270.0",
         "2,500,000,000"
        ],
        [
         "24",
         "Gading Serpong, Tangerang Selatan, Banten",
         "3000000000.0",
         "3.0",
         "3.0",
         "240.0",
         "25000000.0",
         "3,000,000,000"
        ],
        [
         "25",
         "Gading Serpong, Tangerang Selatan, Banten",
         "3500000000.0",
         "5.0",
         "4.0",
         "130.0",
         "27343750.0",
         "3,500,000,000"
        ],
        [
         "26",
         "Gading Serpong, Tangerang Selatan, Banten",
         "7500000000.0",
         "5.0",
         "7.0",
         "308.0",
         "30000000.0",
         "7,500,000,000"
        ],
        [
         "27",
         "Jl Sektor Gading Serpong, Gading Serpong, Tangerang Selatan, Banten",
         "1550000000.0",
         "2.0",
         "2.0",
         "126.0",
         "15500000.0",
         "1,550,000,000"
        ],
        [
         "28",
         "Jl Gading Serpong, Gading Serpong, Tangerang Selatan, Banten",
         "6900000000.0",
         "4.0",
         "4.0",
         "349.0",
         "23000000.0",
         "6,900,000,000"
        ],
        [
         "29",
         "Gading Serpong, Tangerang Selatan, Banten",
         "900000000.0",
         "2.0",
         "1.0",
         "50.0",
         "12500000.0",
         "900,000,000"
        ],
        [
         "30",
         "Jl Gading Serpong, Gading Serpong, Tangerang Selatan, Banten",
         "3850000000.0",
         "4.0",
         "3.0",
         "157.0",
         "12833333.0",
         "3,850,000,000"
        ],
        [
         "31",
         "Jl Gading Serpong, Gading Serpong, Tangerang Selatan, Banten",
         "3200000000.0",
         "3.0",
         "3.0",
         "135.0",
         "25000000.0",
         "3,200,000,000"
        ],
        [
         "32",
         "BSD, Tangerang Selatan, Banten",
         "3000000000.0",
         "4.0",
         "4.0",
         "144.0",
         "25000000.0",
         "3,000,000,000"
        ],
        [
         "33",
         "Serpong, Tangerang Selatan, Banten",
         "5500000000.0",
         "6.0",
         "5.0",
         "600.0",
         "21825397.0",
         "5,500,000,000"
        ],
        [
         "34",
         "BSD, Tangerang Selatan, Banten",
         "990000000.0",
         "3.0",
         "2.0",
         "90.0",
         "30937500.0",
         "990,000,000"
        ],
        [
         "35",
         "Gading Serpong, Tangerang Selatan, Banten",
         "1950000000.0",
         "5.0",
         "3.0",
         "120.0",
         "26351351.0",
         "1,950,000,000"
        ],
        [
         "36",
         "Gading Serpong, Tangerang Selatan, Banten",
         "2550000000.0",
         "4.0",
         "3.0",
         "105.0",
         "24285714.0",
         "2,550,000,000"
        ],
        [
         "37",
         "Jl Cluster Berryl, Gading Serpong, Tangerang Selatan, Banten",
         "2500000000.0",
         "3.0",
         "3.0",
         "120.0",
         "20833333.0",
         "2,500,000,000"
        ],
        [
         "38",
         "Bintaro, Tangerang Selatan, Banten",
         "2350000000.0",
         "3.0",
         "3.0",
         "89.0",
         "27976190.0",
         "2,350,000,000"
        ],
        [
         "39",
         "Graha Carissa, Serpong Utara, Tangerang Selatan, Banten",
         "1700000000.0",
         "2.0",
         "1.0",
         "90.0",
         "15740741.0",
         "1,700,000,000"
        ],
        [
         "40",
         "Cluster Graha Raya Bintaro, Bintaro, Tangerang Selatan, Banten",
         "1850000000.0",
         "5.0",
         "4.0",
         "150.0",
         "18877551.0",
         "1,850,000,000"
        ],
        [
         "41",
         "Sektor 9, Bintaro, Tangerang Selatan, Banten",
         "3850000000.0",
         "5.0",
         "4.0",
         "180.0",
         "25163399.0",
         "3,850,000,000"
        ],
        [
         "42",
         "Cluster Graha Raya Bintaro, Bintaro, Tangerang Selatan, Banten",
         "4900000000.0",
         "6.0",
         "4.0",
         "365.0",
         "17013889.0",
         "4,900,000,000"
        ],
        [
         "43",
         "Bintaro, Bintaro, Tangerang Selatan, Banten",
         "675000000.0",
         "2.0",
         "1.0",
         "50.0",
         "8881579.0",
         "675,000,000"
        ],
        [
         "44",
         "Graha Bintaro, Bintaro, Tangerang Selatan, Banten",
         "1800000000.0",
         "5.0",
         "4.0",
         "150.0",
         "17142857.0",
         "1,800,000,000"
        ],
        [
         "45",
         "Cluster Strozzi Symphonia Gading Serpong, BSD, Tangerang Selatan, Banten",
         "2495000000.0",
         "4.0",
         "3.0",
         "92.0",
         "29702381.0",
         "2,495,000,000"
        ],
        [
         "46",
         "Serpong, Tangerang Selatan, Banten",
         "1090000000.0",
         "2.0",
         "1.0",
         "41.0",
         "15138889.0",
         "1,090,000,000"
        ],
        [
         "47",
         "jln Pandawa, Pamulang, Tangerang Selatan, Banten",
         "900000000.0",
         "3.0",
         "3.0",
         "69.0",
         "10714286.0",
         "900,000,000"
        ],
        [
         "48",
         "Pondok Benda, Pamulang, Tangerang Selatan, Banten",
         "535000000.0",
         "2.0",
         "1.0",
         "38.0",
         "8916667.0",
         "535,000,000"
        ],
        [
         "49",
         "Pondok Benda, Pamulang, Tangerang Selatan, Banten",
         "535000000.0",
         "2.0",
         "1.0",
         "38.0",
         "8916667.0",
         "535,000,000"
        ]
       ],
       "shape": {
        "columns": 7,
        "rows": 29383
       }
      },
      "text/html": [
       "<div>\n",
       "<style scoped>\n",
       "    .dataframe tbody tr th:only-of-type {\n",
       "        vertical-align: middle;\n",
       "    }\n",
       "\n",
       "    .dataframe tbody tr th {\n",
       "        vertical-align: top;\n",
       "    }\n",
       "\n",
       "    .dataframe thead th {\n",
       "        text-align: right;\n",
       "    }\n",
       "</style>\n",
       "<table border=\"1\" class=\"dataframe\">\n",
       "  <thead>\n",
       "    <tr style=\"text-align: right;\">\n",
       "      <th></th>\n",
       "      <th>listing-location</th>\n",
       "      <th>price</th>\n",
       "      <th>bed</th>\n",
       "      <th>bath</th>\n",
       "      <th>listing-floorarea</th>\n",
       "      <th>harga_permeter_persegi</th>\n",
       "      <th>price_formatted</th>\n",
       "    </tr>\n",
       "  </thead>\n",
       "  <tbody>\n",
       "    <tr>\n",
       "      <th>0</th>\n",
       "      <td>Gading Serpong, Tangerang Selatan, Banten</td>\n",
       "      <td>6.900000e+09</td>\n",
       "      <td>5.0</td>\n",
       "      <td>5.0</td>\n",
       "      <td>420.0</td>\n",
       "      <td>20720721.0</td>\n",
       "      <td>6,900,000,000</td>\n",
       "    </tr>\n",
       "    <tr>\n",
       "      <th>1</th>\n",
       "      <td>Gading Serpong, Tangerang Selatan, Banten</td>\n",
       "      <td>4.500000e+09</td>\n",
       "      <td>3.0</td>\n",
       "      <td>3.0</td>\n",
       "      <td>190.0</td>\n",
       "      <td>12747875.0</td>\n",
       "      <td>4,500,000,000</td>\n",
       "    </tr>\n",
       "    <tr>\n",
       "      <th>2</th>\n",
       "      <td>Gading Serpong, Tangerang Selatan, Banten</td>\n",
       "      <td>3.950000e+09</td>\n",
       "      <td>3.0</td>\n",
       "      <td>3.0</td>\n",
       "      <td>132.0</td>\n",
       "      <td>30859375.0</td>\n",
       "      <td>3,950,000,000</td>\n",
       "    </tr>\n",
       "    <tr>\n",
       "      <th>3</th>\n",
       "      <td>Gading Serpong, Tangerang Selatan, Banten</td>\n",
       "      <td>3.300000e+09</td>\n",
       "      <td>4.0</td>\n",
       "      <td>3.0</td>\n",
       "      <td>220.0</td>\n",
       "      <td>18333333.0</td>\n",
       "      <td>3,300,000,000</td>\n",
       "    </tr>\n",
       "    <tr>\n",
       "      <th>4</th>\n",
       "      <td>Gading Serpong, Tangerang Selatan, Banten</td>\n",
       "      <td>3.500000e+09</td>\n",
       "      <td>3.0</td>\n",
       "      <td>2.0</td>\n",
       "      <td>180.0</td>\n",
       "      <td>27777778.0</td>\n",
       "      <td>3,500,000,000</td>\n",
       "    </tr>\n",
       "    <tr>\n",
       "      <th>...</th>\n",
       "      <td>...</td>\n",
       "      <td>...</td>\n",
       "      <td>...</td>\n",
       "      <td>...</td>\n",
       "      <td>...</td>\n",
       "      <td>...</td>\n",
       "      <td>...</td>\n",
       "    </tr>\n",
       "    <tr>\n",
       "      <th>29415</th>\n",
       "      <td>Bintaro, Tangerang Selatan, Banten</td>\n",
       "      <td>3.300000e+09</td>\n",
       "      <td>3.0</td>\n",
       "      <td>3.0</td>\n",
       "      <td>300.0</td>\n",
       "      <td>21710526.0</td>\n",
       "      <td>3,300,000,000</td>\n",
       "    </tr>\n",
       "    <tr>\n",
       "      <th>29416</th>\n",
       "      <td>Bintaro, Tangerang Selatan, Banten</td>\n",
       "      <td>4.000000e+09</td>\n",
       "      <td>8.0</td>\n",
       "      <td>4.0</td>\n",
       "      <td>330.0</td>\n",
       "      <td>36363636.0</td>\n",
       "      <td>4,000,000,000</td>\n",
       "    </tr>\n",
       "    <tr>\n",
       "      <th>29417</th>\n",
       "      <td>Bintaro, Tangerang Selatan, Banten</td>\n",
       "      <td>2.200000e+09</td>\n",
       "      <td>3.0</td>\n",
       "      <td>2.0</td>\n",
       "      <td>160.0</td>\n",
       "      <td>18333333.0</td>\n",
       "      <td>2,200,000,000</td>\n",
       "    </tr>\n",
       "    <tr>\n",
       "      <th>29418</th>\n",
       "      <td>Bintaro, Tangerang Selatan, Banten</td>\n",
       "      <td>1.950000e+09</td>\n",
       "      <td>3.0</td>\n",
       "      <td>2.0</td>\n",
       "      <td>120.0</td>\n",
       "      <td>21666667.0</td>\n",
       "      <td>1,950,000,000</td>\n",
       "    </tr>\n",
       "    <tr>\n",
       "      <th>29419</th>\n",
       "      <td>Bintaro, Tangerang Selatan, Banten</td>\n",
       "      <td>5.500000e+09</td>\n",
       "      <td>4.0</td>\n",
       "      <td>3.0</td>\n",
       "      <td>200.0</td>\n",
       "      <td>30555556.0</td>\n",
       "      <td>5,500,000,000</td>\n",
       "    </tr>\n",
       "  </tbody>\n",
       "</table>\n",
       "<p>29383 rows × 7 columns</p>\n",
       "</div>"
      ],
      "text/plain": [
       "                                listing-location         price  bed  bath  \\\n",
       "0      Gading Serpong, Tangerang Selatan, Banten  6.900000e+09  5.0   5.0   \n",
       "1      Gading Serpong, Tangerang Selatan, Banten  4.500000e+09  3.0   3.0   \n",
       "2      Gading Serpong, Tangerang Selatan, Banten  3.950000e+09  3.0   3.0   \n",
       "3      Gading Serpong, Tangerang Selatan, Banten  3.300000e+09  4.0   3.0   \n",
       "4      Gading Serpong, Tangerang Selatan, Banten  3.500000e+09  3.0   2.0   \n",
       "...                                          ...           ...  ...   ...   \n",
       "29415         Bintaro, Tangerang Selatan, Banten  3.300000e+09  3.0   3.0   \n",
       "29416         Bintaro, Tangerang Selatan, Banten  4.000000e+09  8.0   4.0   \n",
       "29417         Bintaro, Tangerang Selatan, Banten  2.200000e+09  3.0   2.0   \n",
       "29418         Bintaro, Tangerang Selatan, Banten  1.950000e+09  3.0   2.0   \n",
       "29419         Bintaro, Tangerang Selatan, Banten  5.500000e+09  4.0   3.0   \n",
       "\n",
       "       listing-floorarea  harga_permeter_persegi price_formatted  \n",
       "0                  420.0              20720721.0   6,900,000,000  \n",
       "1                  190.0              12747875.0   4,500,000,000  \n",
       "2                  132.0              30859375.0   3,950,000,000  \n",
       "3                  220.0              18333333.0   3,300,000,000  \n",
       "4                  180.0              27777778.0   3,500,000,000  \n",
       "...                  ...                     ...             ...  \n",
       "29415              300.0              21710526.0   3,300,000,000  \n",
       "29416              330.0              36363636.0   4,000,000,000  \n",
       "29417              160.0              18333333.0   2,200,000,000  \n",
       "29418              120.0              21666667.0   1,950,000,000  \n",
       "29419              200.0              30555556.0   5,500,000,000  \n",
       "\n",
       "[29383 rows x 7 columns]"
      ]
     },
     "execution_count": 24,
     "metadata": {},
     "output_type": "execute_result"
    }
   ],
   "source": [
    "df"
   ]
  },
  {
   "cell_type": "markdown",
   "metadata": {},
   "source": [
    "<h3>Memfileter data berdasarkan kecamatan , kelurahan dan tempatnya</h3>"
   ]
  },
  {
   "cell_type": "code",
   "execution_count": 25,
   "metadata": {},
   "outputs": [],
   "source": [
    "kecamatan_list = ['Ciputat', 'Ciputat Timur', 'Pamulang', 'Pondok Aren', 'Serpong', 'Serpong Utara', 'Setu']\n",
    "kelurahan_list = ['Cempaka Putih', 'Ciputat', 'Ciputat Timur', 'Gandaria', 'Bambu Apus', 'Jaya Baru',\n",
    "                  'Pondok Aren', 'Pondok Jaya', 'Lengkong Gudang', 'Pd. Jagung', 'Serpong Utara',\n",
    "                  'Serpong', 'Benda', 'Bintaro']\n",
    "residential_area = [\"Bintaro\", \"BSD\", \"Pamulang\", \"Cirendeu\", \"Gading Serpong\", \"Serpong\", \"Alam Sutera\"]"
   ]
  },
  {
   "cell_type": "code",
   "execution_count": 26,
   "metadata": {},
   "outputs": [],
   "source": [
    "def extract_kecamatan(listing_location, kecamatan_list):\n",
    "    for kecamatan in kecamatan_list:\n",
    "        if kecamatan.lower() in listing_location.lower():\n",
    "            return kecamatan\n",
    "    return None\n",
    "\n",
    "def extract_kelurahan(listing_location, kelurahan_list):\n",
    "    for kelurahan in kelurahan_list:\n",
    "        if kelurahan.lower() in listing_location.lower():\n",
    "            return kelurahan\n",
    "    return None\n",
    "\n",
    "def extract_area(listing_location, residential_area):\n",
    "    for area in residential_area:\n",
    "        if area.lower() in listing_location.lower():\n",
    "            return area\n",
    "    return None\n"
   ]
  },
  {
   "cell_type": "code",
   "execution_count": 27,
   "metadata": {},
   "outputs": [],
   "source": [
    "df[\"district\"] = df[\"listing-location\"].apply(lambda x: extract_kecamatan(x, kecamatan_list))\n",
    "\n",
    "df[\"sub-district\"] = df[\"listing-location\"].apply(lambda x: extract_kelurahan(x, kelurahan_list))\n",
    "\n",
    "df[\"area\"] = df[\"listing-location\"].apply(lambda x: extract_area(x, residential_area))"
   ]
  },
  {
   "cell_type": "code",
   "execution_count": 28,
   "metadata": {},
   "outputs": [
    {
     "data": {
      "application/vnd.microsoft.datawrangler.viewer.v0+json": {
       "columns": [
        {
         "name": "index",
         "rawType": "int64",
         "type": "integer"
        },
        {
         "name": "listing-location",
         "rawType": "object",
         "type": "string"
        },
        {
         "name": "price",
         "rawType": "float64",
         "type": "float"
        },
        {
         "name": "bed",
         "rawType": "float64",
         "type": "float"
        },
        {
         "name": "bath",
         "rawType": "float64",
         "type": "float"
        },
        {
         "name": "listing-floorarea",
         "rawType": "float64",
         "type": "float"
        },
        {
         "name": "harga_permeter_persegi",
         "rawType": "float64",
         "type": "float"
        },
        {
         "name": "price_formatted",
         "rawType": "object",
         "type": "string"
        },
        {
         "name": "district",
         "rawType": "object",
         "type": "string"
        },
        {
         "name": "sub-district",
         "rawType": "object",
         "type": "string"
        },
        {
         "name": "area",
         "rawType": "object",
         "type": "string"
        }
       ],
       "conversionMethod": "pd.DataFrame",
       "ref": "f9a14712-f32a-4cf8-b275-8efb75d8a900",
       "rows": [
        [
         "0",
         "Gading Serpong, Tangerang Selatan, Banten",
         "6900000000.0",
         "5.0",
         "5.0",
         "420.0",
         "20720721.0",
         "6,900,000,000",
         "Serpong",
         "Serpong",
         "Gading Serpong"
        ],
        [
         "1",
         "Gading Serpong, Tangerang Selatan, Banten",
         "4500000000.0",
         "3.0",
         "3.0",
         "190.0",
         "12747875.0",
         "4,500,000,000",
         "Serpong",
         "Serpong",
         "Gading Serpong"
        ],
        [
         "2",
         "Gading Serpong, Tangerang Selatan, Banten",
         "3950000000.0",
         "3.0",
         "3.0",
         "132.0",
         "30859375.0",
         "3,950,000,000",
         "Serpong",
         "Serpong",
         "Gading Serpong"
        ],
        [
         "3",
         "Gading Serpong, Tangerang Selatan, Banten",
         "3300000000.0",
         "4.0",
         "3.0",
         "220.0",
         "18333333.0",
         "3,300,000,000",
         "Serpong",
         "Serpong",
         "Gading Serpong"
        ],
        [
         "4",
         "Gading Serpong, Tangerang Selatan, Banten",
         "3500000000.0",
         "3.0",
         "2.0",
         "180.0",
         "27777778.0",
         "3,500,000,000",
         "Serpong",
         "Serpong",
         "Gading Serpong"
        ]
       ],
       "shape": {
        "columns": 10,
        "rows": 5
       }
      },
      "text/html": [
       "<div>\n",
       "<style scoped>\n",
       "    .dataframe tbody tr th:only-of-type {\n",
       "        vertical-align: middle;\n",
       "    }\n",
       "\n",
       "    .dataframe tbody tr th {\n",
       "        vertical-align: top;\n",
       "    }\n",
       "\n",
       "    .dataframe thead th {\n",
       "        text-align: right;\n",
       "    }\n",
       "</style>\n",
       "<table border=\"1\" class=\"dataframe\">\n",
       "  <thead>\n",
       "    <tr style=\"text-align: right;\">\n",
       "      <th></th>\n",
       "      <th>listing-location</th>\n",
       "      <th>price</th>\n",
       "      <th>bed</th>\n",
       "      <th>bath</th>\n",
       "      <th>listing-floorarea</th>\n",
       "      <th>harga_permeter_persegi</th>\n",
       "      <th>price_formatted</th>\n",
       "      <th>district</th>\n",
       "      <th>sub-district</th>\n",
       "      <th>area</th>\n",
       "    </tr>\n",
       "  </thead>\n",
       "  <tbody>\n",
       "    <tr>\n",
       "      <th>0</th>\n",
       "      <td>Gading Serpong, Tangerang Selatan, Banten</td>\n",
       "      <td>6.900000e+09</td>\n",
       "      <td>5.0</td>\n",
       "      <td>5.0</td>\n",
       "      <td>420.0</td>\n",
       "      <td>20720721.0</td>\n",
       "      <td>6,900,000,000</td>\n",
       "      <td>Serpong</td>\n",
       "      <td>Serpong</td>\n",
       "      <td>Gading Serpong</td>\n",
       "    </tr>\n",
       "    <tr>\n",
       "      <th>1</th>\n",
       "      <td>Gading Serpong, Tangerang Selatan, Banten</td>\n",
       "      <td>4.500000e+09</td>\n",
       "      <td>3.0</td>\n",
       "      <td>3.0</td>\n",
       "      <td>190.0</td>\n",
       "      <td>12747875.0</td>\n",
       "      <td>4,500,000,000</td>\n",
       "      <td>Serpong</td>\n",
       "      <td>Serpong</td>\n",
       "      <td>Gading Serpong</td>\n",
       "    </tr>\n",
       "    <tr>\n",
       "      <th>2</th>\n",
       "      <td>Gading Serpong, Tangerang Selatan, Banten</td>\n",
       "      <td>3.950000e+09</td>\n",
       "      <td>3.0</td>\n",
       "      <td>3.0</td>\n",
       "      <td>132.0</td>\n",
       "      <td>30859375.0</td>\n",
       "      <td>3,950,000,000</td>\n",
       "      <td>Serpong</td>\n",
       "      <td>Serpong</td>\n",
       "      <td>Gading Serpong</td>\n",
       "    </tr>\n",
       "    <tr>\n",
       "      <th>3</th>\n",
       "      <td>Gading Serpong, Tangerang Selatan, Banten</td>\n",
       "      <td>3.300000e+09</td>\n",
       "      <td>4.0</td>\n",
       "      <td>3.0</td>\n",
       "      <td>220.0</td>\n",
       "      <td>18333333.0</td>\n",
       "      <td>3,300,000,000</td>\n",
       "      <td>Serpong</td>\n",
       "      <td>Serpong</td>\n",
       "      <td>Gading Serpong</td>\n",
       "    </tr>\n",
       "    <tr>\n",
       "      <th>4</th>\n",
       "      <td>Gading Serpong, Tangerang Selatan, Banten</td>\n",
       "      <td>3.500000e+09</td>\n",
       "      <td>3.0</td>\n",
       "      <td>2.0</td>\n",
       "      <td>180.0</td>\n",
       "      <td>27777778.0</td>\n",
       "      <td>3,500,000,000</td>\n",
       "      <td>Serpong</td>\n",
       "      <td>Serpong</td>\n",
       "      <td>Gading Serpong</td>\n",
       "    </tr>\n",
       "  </tbody>\n",
       "</table>\n",
       "</div>"
      ],
      "text/plain": [
       "                            listing-location         price  bed  bath  \\\n",
       "0  Gading Serpong, Tangerang Selatan, Banten  6.900000e+09  5.0   5.0   \n",
       "1  Gading Serpong, Tangerang Selatan, Banten  4.500000e+09  3.0   3.0   \n",
       "2  Gading Serpong, Tangerang Selatan, Banten  3.950000e+09  3.0   3.0   \n",
       "3  Gading Serpong, Tangerang Selatan, Banten  3.300000e+09  4.0   3.0   \n",
       "4  Gading Serpong, Tangerang Selatan, Banten  3.500000e+09  3.0   2.0   \n",
       "\n",
       "   listing-floorarea  harga_permeter_persegi price_formatted district  \\\n",
       "0              420.0              20720721.0   6,900,000,000  Serpong   \n",
       "1              190.0              12747875.0   4,500,000,000  Serpong   \n",
       "2              132.0              30859375.0   3,950,000,000  Serpong   \n",
       "3              220.0              18333333.0   3,300,000,000  Serpong   \n",
       "4              180.0              27777778.0   3,500,000,000  Serpong   \n",
       "\n",
       "  sub-district            area  \n",
       "0      Serpong  Gading Serpong  \n",
       "1      Serpong  Gading Serpong  \n",
       "2      Serpong  Gading Serpong  \n",
       "3      Serpong  Gading Serpong  \n",
       "4      Serpong  Gading Serpong  "
      ]
     },
     "execution_count": 28,
     "metadata": {},
     "output_type": "execute_result"
    }
   ],
   "source": [
    "df.head()"
   ]
  },
  {
   "cell_type": "code",
   "execution_count": 29,
   "metadata": {},
   "outputs": [
    {
     "data": {
      "application/vnd.microsoft.datawrangler.viewer.v0+json": {
       "columns": [
        {
         "name": "index",
         "rawType": "object",
         "type": "string"
        },
        {
         "name": "price",
         "rawType": "float64",
         "type": "float"
        },
        {
         "name": "bed",
         "rawType": "float64",
         "type": "float"
        },
        {
         "name": "bath",
         "rawType": "float64",
         "type": "float"
        },
        {
         "name": "listing-floorarea",
         "rawType": "float64",
         "type": "float"
        },
        {
         "name": "harga_permeter_persegi",
         "rawType": "float64",
         "type": "float"
        }
       ],
       "conversionMethod": "pd.DataFrame",
       "ref": "a5f0fef0-01e2-4fdf-a4fa-4f751e6b133f",
       "rows": [
        [
         "count",
         "29383.0",
         "29383.0",
         "29383.0",
         "29383.0",
         "29383.0"
        ],
        [
         "mean",
         "3565925639.2348976",
         "3.7549773678657727",
         "2.986029336691284",
         "220.49511622366674",
         "17832003.33944798"
        ],
        [
         "std",
         "6813606638.51103",
         "1.3550833491539411",
         "1.357078506745484",
         "3397.8025647933428",
         "60708913.60582179"
        ],
        [
         "min",
         "1.0",
         "1.0",
         "1.0",
         "1.0",
         "-2147483648.0"
        ],
        [
         "25%",
         "1350000000.0",
         "3.0",
         "2.0",
         "80.0",
         "13150000.0"
        ],
        [
         "50%",
         "2450000000.0",
         "4.0",
         "3.0",
         "140.0",
         "18333333.0"
        ],
        [
         "75%",
         "4300000000.0",
         "4.0",
         "4.0",
         "236.0",
         "24192362.0"
        ],
        [
         "max",
         "850000000000.0",
         "10.0",
         "10.0",
         "400000.0",
         "1312500000.0"
        ]
       ],
       "shape": {
        "columns": 5,
        "rows": 8
       }
      },
      "text/html": [
       "<div>\n",
       "<style scoped>\n",
       "    .dataframe tbody tr th:only-of-type {\n",
       "        vertical-align: middle;\n",
       "    }\n",
       "\n",
       "    .dataframe tbody tr th {\n",
       "        vertical-align: top;\n",
       "    }\n",
       "\n",
       "    .dataframe thead th {\n",
       "        text-align: right;\n",
       "    }\n",
       "</style>\n",
       "<table border=\"1\" class=\"dataframe\">\n",
       "  <thead>\n",
       "    <tr style=\"text-align: right;\">\n",
       "      <th></th>\n",
       "      <th>price</th>\n",
       "      <th>bed</th>\n",
       "      <th>bath</th>\n",
       "      <th>listing-floorarea</th>\n",
       "      <th>harga_permeter_persegi</th>\n",
       "    </tr>\n",
       "  </thead>\n",
       "  <tbody>\n",
       "    <tr>\n",
       "      <th>count</th>\n",
       "      <td>2.938300e+04</td>\n",
       "      <td>29383.000000</td>\n",
       "      <td>29383.000000</td>\n",
       "      <td>29383.000000</td>\n",
       "      <td>2.938300e+04</td>\n",
       "    </tr>\n",
       "    <tr>\n",
       "      <th>mean</th>\n",
       "      <td>3.565926e+09</td>\n",
       "      <td>3.754977</td>\n",
       "      <td>2.986029</td>\n",
       "      <td>220.495116</td>\n",
       "      <td>1.783200e+07</td>\n",
       "    </tr>\n",
       "    <tr>\n",
       "      <th>std</th>\n",
       "      <td>6.813607e+09</td>\n",
       "      <td>1.355083</td>\n",
       "      <td>1.357079</td>\n",
       "      <td>3397.802565</td>\n",
       "      <td>6.070891e+07</td>\n",
       "    </tr>\n",
       "    <tr>\n",
       "      <th>min</th>\n",
       "      <td>1.000000e+00</td>\n",
       "      <td>1.000000</td>\n",
       "      <td>1.000000</td>\n",
       "      <td>1.000000</td>\n",
       "      <td>-2.147484e+09</td>\n",
       "    </tr>\n",
       "    <tr>\n",
       "      <th>25%</th>\n",
       "      <td>1.350000e+09</td>\n",
       "      <td>3.000000</td>\n",
       "      <td>2.000000</td>\n",
       "      <td>80.000000</td>\n",
       "      <td>1.315000e+07</td>\n",
       "    </tr>\n",
       "    <tr>\n",
       "      <th>50%</th>\n",
       "      <td>2.450000e+09</td>\n",
       "      <td>4.000000</td>\n",
       "      <td>3.000000</td>\n",
       "      <td>140.000000</td>\n",
       "      <td>1.833333e+07</td>\n",
       "    </tr>\n",
       "    <tr>\n",
       "      <th>75%</th>\n",
       "      <td>4.300000e+09</td>\n",
       "      <td>4.000000</td>\n",
       "      <td>4.000000</td>\n",
       "      <td>236.000000</td>\n",
       "      <td>2.419236e+07</td>\n",
       "    </tr>\n",
       "    <tr>\n",
       "      <th>max</th>\n",
       "      <td>8.500000e+11</td>\n",
       "      <td>10.000000</td>\n",
       "      <td>10.000000</td>\n",
       "      <td>400000.000000</td>\n",
       "      <td>1.312500e+09</td>\n",
       "    </tr>\n",
       "  </tbody>\n",
       "</table>\n",
       "</div>"
      ],
      "text/plain": [
       "              price           bed          bath  listing-floorarea  \\\n",
       "count  2.938300e+04  29383.000000  29383.000000       29383.000000   \n",
       "mean   3.565926e+09      3.754977      2.986029         220.495116   \n",
       "std    6.813607e+09      1.355083      1.357079        3397.802565   \n",
       "min    1.000000e+00      1.000000      1.000000           1.000000   \n",
       "25%    1.350000e+09      3.000000      2.000000          80.000000   \n",
       "50%    2.450000e+09      4.000000      3.000000         140.000000   \n",
       "75%    4.300000e+09      4.000000      4.000000         236.000000   \n",
       "max    8.500000e+11     10.000000     10.000000      400000.000000   \n",
       "\n",
       "       harga_permeter_persegi  \n",
       "count            2.938300e+04  \n",
       "mean             1.783200e+07  \n",
       "std              6.070891e+07  \n",
       "min             -2.147484e+09  \n",
       "25%              1.315000e+07  \n",
       "50%              1.833333e+07  \n",
       "75%              2.419236e+07  \n",
       "max              1.312500e+09  "
      ]
     },
     "execution_count": 29,
     "metadata": {},
     "output_type": "execute_result"
    }
   ],
   "source": [
    "df.describe()"
   ]
  },
  {
   "cell_type": "code",
   "execution_count": 40,
   "metadata": {},
   "outputs": [],
   "source": [
    "df.to_csv(\"cleaned_property_data.csv\", index= False, encoding= \"utf-8\")"
   ]
  },
  {
   "cell_type": "markdown",
   "metadata": {},
   "source": [
    "<h2>Visualization</h2>"
   ]
  },
  {
   "cell_type": "code",
   "execution_count": 30,
   "metadata": {},
   "outputs": [
    {
     "data": {
      "image/png": "[encoded data removed]",
      "text/plain": [
       "<Figure size 1000x600 with 1 Axes>"
      ]
     },
     "metadata": {},
     "output_type": "display_data"
    }
   ],
   "source": [
    "subdistrict_counts = df['sub-district'].value_counts()\n",
    "\n",
    "plt.figure(figsize=(10, 6))\n",
    "bars = subdistrict_counts.plot(kind='bar', color='skyblue')\n",
    "\n",
    "for bar, count in zip(bars.patches, subdistrict_counts):\n",
    "    plt.text(bar.get_x() + bar.get_width() / 2, bar.get_height(), count, ha='center', va='bottom', fontsize=8)\n",
    "    \n",
    "plt.title('Jumlah daftar rumah yang di jual berdasarkan kecamatan')\n",
    "plt.xlabel('Sub-District')\n",
    "plt.ylabel('Count of Listings')\n",
    "plt.xticks(rotation=45)\n",
    "plt.tight_layout()\n",
    "plt.show()"
   ]
  },
  {
   "cell_type": "markdown",
   "metadata": {},
   "source": [
    "Penjelasan : Perbedaan jumlah listing antara Bintaro dan sub-distrik lainnya sangat mencolok. Ini menunjukkan bahwa Bintaro mungkin merupakan area yang sangat populer atau memiliki perkembangan properti yang pesat.\n",
    "Empat sub-distrik teratas (Bintaro, Serpong, Ciputat, dan Pondok Aren) memiliki jumlah listing yang jauh lebih tinggi dibandingkan sub-distrik lainnya."
   ]
  },
  {
   "cell_type": "markdown",
   "metadata": {},
   "source": [
    "Total listing by Area"
   ]
  },
  {
   "cell_type": "code",
   "execution_count": 37,
   "metadata": {},
   "outputs": [
    {
     "data": {
      "image/png": "[encoded data removed]",
      "text/plain": [
       "<Figure size 1000x600 with 1 Axes>"
      ]
     },
     "metadata": {},
     "output_type": "display_data"
    }
   ],
   "source": [
    "area_counts = df['area'].value_counts()\n",
    "\n",
    "plt.figure(figsize=(10, 6))\n",
    "bars = area_counts.plot(kind='bar', color='skyblue')\n",
    "\n",
    "for bar, count in zip(bars.patches, area_counts):\n",
    "    plt.text(bar.get_x() + bar.get_width() / 2, bar.get_height(), count, ha='center', va='bottom', fontsize=8)\n",
    "\n",
    "plt.title('Jumlah Listing Berdasarkan Wilayah')\n",
    "plt.xlabel('Area')\n",
    "plt.ylabel('Count of Listings')\n",
    "plt.xticks(rotation=45)\n",
    "plt.tight_layout()\n",
    "plt.show()"
   ]
  },
  {
   "cell_type": "code",
   "execution_count": 35,
   "metadata": {},
   "outputs": [
    {
     "data": {
      "image/png": "[encoded data removed]",
      "text/plain": [
       "<Figure size 1000x600 with 1 Axes>"
      ]
     },
     "metadata": {},
     "output_type": "display_data"
    }
   ],
   "source": [
    "avg_data = df.groupby('area')[['bed','bath']].mean().reset_index()\n",
    "\n",
    "\n",
    "# Plotting\n",
    "plt.figure(figsize=(10, 6))\n",
    "sns.barplot(x='bed', y='area', data=avg_data, color='skyblue', label='kamar')\n",
    "sns.barplot(x='bath', y='area', data=avg_data, color='green', label='kamar mandi')\n",
    "plt.xlabel('Average Count')\n",
    "plt.ylabel('Area')\n",
    "plt.title('Rata-rata Jumlah Kamar Tidur dan Kamar Mandi berdasarkan Area')\n",
    "plt.legend()\n",
    "plt.tight_layout()\n",
    "plt.show()"
   ]
  },
  {
   "cell_type": "markdown",
   "metadata": {},
   "source": [
    "Diagram ini memberikan gambaran umum mengenai perbandingan rata-rata jumlah kamar tidur dan kamar mandi di berbagai area. "
   ]
  },
  {
   "cell_type": "code",
   "execution_count": 36,
   "metadata": {},
   "outputs": [
    {
     "data": {
      "image/png": "[encoded data removed]",
      "text/plain": [
       "<Figure size 1000x600 with 1 Axes>"
      ]
     },
     "metadata": {},
     "output_type": "display_data"
    }
   ],
   "source": [
    "avg_landsize = df.groupby('area')['listing-floorarea'].mean().reset_index()\n",
    "\n",
    "avg_landsize = avg_landsize.sort_values(by='listing-floorarea', ascending=False)\n",
    "\n",
    "# Plotting\n",
    "plt.figure(figsize=(10, 6))\n",
    "sns.barplot(x='area', y='listing-floorarea', data=avg_landsize, color='skyblue')\n",
    "plt.xlabel('Area')\n",
    "plt.ylabel('listing-floorarea')\n",
    "plt.title('Rata-rata Luas Lahan Berdasarkan area')\n",
    "plt.tight_layout()\n",
    "plt.show()"
   ]
  },
  {
   "cell_type": "markdown",
   "metadata": {},
   "source": [
    "Alam Sutera menonjol dengan rata-rata luas lahan tertinggi, sementara Pamulang memiliki rata-rata terendah."
   ]
  },
  {
   "cell_type": "code",
   "execution_count": 41,
   "metadata": {},
   "outputs": [
    {
     "data": {
      "image/png": "[encoded data removed]",
      "text/plain": [
       "<Figure size 1000x600 with 1 Axes>"
      ]
     },
     "metadata": {},
     "output_type": "display_data"
    }
   ],
   "source": [
    "area_counts = df['area'].value_counts()\n",
    "\n",
    "plt.figure(figsize=(10, 6))\n",
    "bars = area_counts.plot(kind='bar', color='skyblue')\n",
    "\n",
    "for bar, count in zip(bars.patches, area_counts):\n",
    "    plt.text(bar.get_x() + bar.get_width() / 2, bar.get_height(), count, ha='center', va='bottom', fontsize=8)\n",
    "\n",
    "plt.title('Jumlah Listing harga Berdasarkan Wilayah')\n",
    "plt.xlabel('Sub-District')\n",
    "plt.ylabel('price')\n",
    "plt.xticks(rotation=45)\n",
    "plt.tight_layout()\n",
    "plt.show()"
   ]
  }
 ],
 "metadata": {
  "kernelspec": {
   "display_name": "Python 3",
   "language": "python",
   "name": "python3"
  },
  "language_info": {
   "codemirror_mode": {
    "name": "ipython",
    "version": 3
   },
   "file_extension": ".py",
   "mimetype": "text/x-python",
   "name": "python",
   "nbconvert_exporter": "python",
   "pygments_lexer": "ipython3",
   "version": "3.12.4"
  }
 },
 "nbformat": 4,
 "nbformat_minor": 2
}
